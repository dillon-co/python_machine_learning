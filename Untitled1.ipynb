{
 "cells": [
  {
   "cell_type": "code",
   "execution_count": 2,
   "metadata": {},
   "outputs": [],
   "source": [
    "import csv"
   ]
  },
  {
   "cell_type": "code",
   "execution_count": 23,
   "metadata": {},
   "outputs": [],
   "source": [
    "def csv_as_lists_of_lists():\n",
    "    lexicon = []\n",
    "    with open('quakes.csv', ) as csvfile:\n",
    "        spamreader = csv.reader(csvfile, delimiter=' ', quotechar='|')\n",
    "        for row in spamreader:\n",
    "            row_as_list = row[0].split(',')\n",
    "            lexicon.append(row_as_list)\n",
    "    print(len(lexicon)) \n",
    "    return lexicon"
   ]
  },
  {
   "cell_type": "code",
   "execution_count": 4,
   "metadata": {
    "collapsed": true
   },
   "outputs": [],
   "source": [
    "def lexicon_sorted_by_years(lexicon):\n",
    "    new_lexicon = []\n",
    "    for row in lexicon:\n",
    "        # print lexicon[ind+1]\n",
    "        n_row_ind = ''\n",
    "        if len(new_lexicon) > 1:\n",
    "            # print len(new_lexicon)\n",
    "            for idx, n_row in enumerate(new_lexicon):\n",
    "                if n_row[0][4] == row[4]:\n",
    "                    n_row_ind = idx\n",
    "\n",
    "        if n_row_ind == '':\n",
    "            new_lexicon.append([row])\n",
    "        else:\n",
    "           new_lexicon[n_row_ind].append(row)\n",
    "    new_lexicon.pop(0)\n",
    "    return new_lexicon\n"
   ]
  },
  {
   "cell_type": "code",
   "execution_count": 10,
   "metadata": {},
   "outputs": [],
   "source": [
    "def sorted_lexicon():\n",
    "    lexicon = csv_as_lists_of_lists()\n",
    "    year_lexicon = lexicon_sorted_by_years(lexicon)\n",
    "    return year_lexicon\n"
   ]
  },
  {
   "cell_type": "code",
   "execution_count": 24,
   "metadata": {},
   "outputs": [
    {
     "name": "stdout",
     "output_type": "stream",
     "text": [
      "5389\n"
     ]
    },
    {
     "data": {
      "text/plain": [
       "['1901', '11', '14', '4', '39']"
      ]
     },
     "execution_count": 24,
     "metadata": {},
     "output_type": "execute_result"
    }
   ],
   "source": [
    "sorted_lexicon()[0][0][4:9]"
   ]
  },
  {
   "cell_type": "code",
   "execution_count": null,
   "metadata": {
    "collapsed": true
   },
   "outputs": [],
   "source": []
  }
 ],
 "metadata": {
  "kernelspec": {
   "display_name": "Python 3",
   "language": "python",
   "name": "python3"
  },
  "language_info": {
   "codemirror_mode": {
    "name": "ipython",
    "version": 3
   },
   "file_extension": ".py",
   "mimetype": "text/x-python",
   "name": "python",
   "nbconvert_exporter": "python",
   "pygments_lexer": "ipython3",
   "version": "3.6.3"
  }
 },
 "nbformat": 4,
 "nbformat_minor": 2
}
